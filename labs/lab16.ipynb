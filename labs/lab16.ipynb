{
  "cells": [
    {
      "cell_type": "code",
      "execution_count": 72,
      "id": "0c0d519a",
      "metadata": {
        "id": "0c0d519a"
      },
      "outputs": [],
      "source": [
        "import pandas as pd\n",
        "import numpy as np\n",
        "import matplotlib.pyplot as plt\n",
        "from sklearn.linear_model import LogisticRegression\n",
        "from sklearn import metrics\n",
        "from sklearn.model_selection import train_test_split"
      ]
    },
    {
      "cell_type": "code",
      "execution_count": 73,
      "id": "7e21dcc8",
      "metadata": {
        "colab": {
          "base_uri": "https://localhost:8080/",
          "height": 398
        },
        "id": "7e21dcc8",
        "outputId": "87ad2b61-2387-4f11-e5f6-99d566226786"
      },
      "outputs": [
        {
          "data": {
            "text/html": [
              "<div>\n",
              "<style scoped>\n",
              "    .dataframe tbody tr th:only-of-type {\n",
              "        vertical-align: middle;\n",
              "    }\n",
              "\n",
              "    .dataframe tbody tr th {\n",
              "        vertical-align: top;\n",
              "    }\n",
              "\n",
              "    .dataframe thead th {\n",
              "        text-align: right;\n",
              "    }\n",
              "</style>\n",
              "<table border=\"1\" class=\"dataframe\">\n",
              "  <thead>\n",
              "    <tr style=\"text-align: right;\">\n",
              "      <th></th>\n",
              "      <th>age</th>\n",
              "      <th>sex</th>\n",
              "      <th>cp</th>\n",
              "      <th>trestbps</th>\n",
              "      <th>chol</th>\n",
              "      <th>fbs</th>\n",
              "      <th>restecg</th>\n",
              "      <th>thalach</th>\n",
              "      <th>exang</th>\n",
              "      <th>oldpeak</th>\n",
              "      <th>slope</th>\n",
              "      <th>ca</th>\n",
              "      <th>thal</th>\n",
              "      <th>target</th>\n",
              "    </tr>\n",
              "  </thead>\n",
              "  <tbody>\n",
              "    <tr>\n",
              "      <th>0</th>\n",
              "      <td>52</td>\n",
              "      <td>1</td>\n",
              "      <td>0</td>\n",
              "      <td>125</td>\n",
              "      <td>212</td>\n",
              "      <td>0</td>\n",
              "      <td>1</td>\n",
              "      <td>168</td>\n",
              "      <td>0</td>\n",
              "      <td>1.0</td>\n",
              "      <td>2</td>\n",
              "      <td>2</td>\n",
              "      <td>3</td>\n",
              "      <td>0</td>\n",
              "    </tr>\n",
              "    <tr>\n",
              "      <th>1</th>\n",
              "      <td>53</td>\n",
              "      <td>1</td>\n",
              "      <td>0</td>\n",
              "      <td>140</td>\n",
              "      <td>203</td>\n",
              "      <td>1</td>\n",
              "      <td>0</td>\n",
              "      <td>155</td>\n",
              "      <td>1</td>\n",
              "      <td>3.1</td>\n",
              "      <td>0</td>\n",
              "      <td>0</td>\n",
              "      <td>3</td>\n",
              "      <td>0</td>\n",
              "    </tr>\n",
              "    <tr>\n",
              "      <th>2</th>\n",
              "      <td>70</td>\n",
              "      <td>1</td>\n",
              "      <td>0</td>\n",
              "      <td>145</td>\n",
              "      <td>174</td>\n",
              "      <td>0</td>\n",
              "      <td>1</td>\n",
              "      <td>125</td>\n",
              "      <td>1</td>\n",
              "      <td>2.6</td>\n",
              "      <td>0</td>\n",
              "      <td>0</td>\n",
              "      <td>3</td>\n",
              "      <td>0</td>\n",
              "    </tr>\n",
              "    <tr>\n",
              "      <th>3</th>\n",
              "      <td>61</td>\n",
              "      <td>1</td>\n",
              "      <td>0</td>\n",
              "      <td>148</td>\n",
              "      <td>203</td>\n",
              "      <td>0</td>\n",
              "      <td>1</td>\n",
              "      <td>161</td>\n",
              "      <td>0</td>\n",
              "      <td>0.0</td>\n",
              "      <td>2</td>\n",
              "      <td>1</td>\n",
              "      <td>3</td>\n",
              "      <td>0</td>\n",
              "    </tr>\n",
              "    <tr>\n",
              "      <th>4</th>\n",
              "      <td>62</td>\n",
              "      <td>0</td>\n",
              "      <td>0</td>\n",
              "      <td>138</td>\n",
              "      <td>294</td>\n",
              "      <td>1</td>\n",
              "      <td>1</td>\n",
              "      <td>106</td>\n",
              "      <td>0</td>\n",
              "      <td>1.9</td>\n",
              "      <td>1</td>\n",
              "      <td>3</td>\n",
              "      <td>2</td>\n",
              "      <td>0</td>\n",
              "    </tr>\n",
              "    <tr>\n",
              "      <th>5</th>\n",
              "      <td>58</td>\n",
              "      <td>0</td>\n",
              "      <td>0</td>\n",
              "      <td>100</td>\n",
              "      <td>248</td>\n",
              "      <td>0</td>\n",
              "      <td>0</td>\n",
              "      <td>122</td>\n",
              "      <td>0</td>\n",
              "      <td>1.0</td>\n",
              "      <td>1</td>\n",
              "      <td>0</td>\n",
              "      <td>2</td>\n",
              "      <td>1</td>\n",
              "    </tr>\n",
              "    <tr>\n",
              "      <th>6</th>\n",
              "      <td>58</td>\n",
              "      <td>1</td>\n",
              "      <td>0</td>\n",
              "      <td>114</td>\n",
              "      <td>318</td>\n",
              "      <td>0</td>\n",
              "      <td>2</td>\n",
              "      <td>140</td>\n",
              "      <td>0</td>\n",
              "      <td>4.4</td>\n",
              "      <td>0</td>\n",
              "      <td>3</td>\n",
              "      <td>1</td>\n",
              "      <td>0</td>\n",
              "    </tr>\n",
              "    <tr>\n",
              "      <th>7</th>\n",
              "      <td>55</td>\n",
              "      <td>1</td>\n",
              "      <td>0</td>\n",
              "      <td>160</td>\n",
              "      <td>289</td>\n",
              "      <td>0</td>\n",
              "      <td>0</td>\n",
              "      <td>145</td>\n",
              "      <td>1</td>\n",
              "      <td>0.8</td>\n",
              "      <td>1</td>\n",
              "      <td>1</td>\n",
              "      <td>3</td>\n",
              "      <td>0</td>\n",
              "    </tr>\n",
              "    <tr>\n",
              "      <th>8</th>\n",
              "      <td>46</td>\n",
              "      <td>1</td>\n",
              "      <td>0</td>\n",
              "      <td>120</td>\n",
              "      <td>249</td>\n",
              "      <td>0</td>\n",
              "      <td>0</td>\n",
              "      <td>144</td>\n",
              "      <td>0</td>\n",
              "      <td>0.8</td>\n",
              "      <td>2</td>\n",
              "      <td>0</td>\n",
              "      <td>3</td>\n",
              "      <td>0</td>\n",
              "    </tr>\n",
              "    <tr>\n",
              "      <th>9</th>\n",
              "      <td>54</td>\n",
              "      <td>1</td>\n",
              "      <td>0</td>\n",
              "      <td>122</td>\n",
              "      <td>286</td>\n",
              "      <td>0</td>\n",
              "      <td>0</td>\n",
              "      <td>116</td>\n",
              "      <td>1</td>\n",
              "      <td>3.2</td>\n",
              "      <td>1</td>\n",
              "      <td>2</td>\n",
              "      <td>2</td>\n",
              "      <td>0</td>\n",
              "    </tr>\n",
              "  </tbody>\n",
              "</table>\n",
              "</div>"
            ],
            "text/plain": [
              "   age  sex  cp  trestbps  chol  fbs  restecg  thalach  exang  oldpeak  slope  \\\n",
              "0   52    1   0       125   212    0        1      168      0      1.0      2   \n",
              "1   53    1   0       140   203    1        0      155      1      3.1      0   \n",
              "2   70    1   0       145   174    0        1      125      1      2.6      0   \n",
              "3   61    1   0       148   203    0        1      161      0      0.0      2   \n",
              "4   62    0   0       138   294    1        1      106      0      1.9      1   \n",
              "5   58    0   0       100   248    0        0      122      0      1.0      1   \n",
              "6   58    1   0       114   318    0        2      140      0      4.4      0   \n",
              "7   55    1   0       160   289    0        0      145      1      0.8      1   \n",
              "8   46    1   0       120   249    0        0      144      0      0.8      2   \n",
              "9   54    1   0       122   286    0        0      116      1      3.2      1   \n",
              "\n",
              "   ca  thal  target  \n",
              "0   2     3       0  \n",
              "1   0     3       0  \n",
              "2   0     3       0  \n",
              "3   1     3       0  \n",
              "4   3     2       0  \n",
              "5   0     2       1  \n",
              "6   3     1       0  \n",
              "7   1     3       0  \n",
              "8   0     3       0  \n",
              "9   2     2       0  "
            ]
          },
          "execution_count": 73,
          "metadata": {},
          "output_type": "execute_result"
        }
      ],
      "source": [
        "df=pd.read_csv('heart.csv')\n",
        "df = df.dropna()\n",
        "df.head(10)"
      ]
    },
    {
      "cell_type": "code",
      "execution_count": 74,
      "id": "e058e00f",
      "metadata": {},
      "outputs": [
        {
          "name": "stdout",
          "output_type": "stream",
          "text": [
            "   age  trestbps  chol  thalach  oldpeak\n",
            "0   52       125   212      168      1.0\n",
            "1   53       140   203      155      3.1\n",
            "2   70       145   174      125      2.6\n",
            "3   61       148   203      161      0.0\n",
            "4   62       138   294      106      1.9 \n",
            "\n",
            "   sex  cp  fbs  restecg  exang  slope  ca  thal  target\n",
            "0    1   0    0        1      0      2   2     3       0\n",
            "1    1   0    1        0      1      0   0     3       0\n",
            "2    1   0    0        1      1      0   0     3       0\n",
            "3    1   0    0        1      0      2   1     3       0\n",
            "4    0   0    1        1      0      1   3     2       0 \n",
            "\n",
            "        age  trestbps      chol   thalach   oldpeak\n",
            "0  0.497415  0.303590  0.203825  0.768657  0.167433\n",
            "1  0.470279  0.408166  0.165349  0.603105  0.470279\n",
            "2  0.743773  0.418950  0.095426  0.358939  0.365157\n",
            "3  0.606845  0.463721  0.160024  0.625375  0.000000\n",
            "4  0.702638  0.424234  0.392007  0.273059  0.313199 \n",
            "\n",
            "   sex  cp  fbs  restecg  exang  slope  ca  thal  target       age  trestbps  \\\n",
            "0    1   0    0        1      0      2   2     3       0  0.497415  0.303590   \n",
            "1    1   0    1        0      1      0   0     3       0  0.470279  0.408166   \n",
            "2    1   0    0        1      1      0   0     3       0  0.743773  0.418950   \n",
            "3    1   0    0        1      0      2   1     3       0  0.606845  0.463721   \n",
            "4    0   0    1        1      0      1   3     2       0  0.702638  0.424234   \n",
            "\n",
            "       chol   thalach   oldpeak  \n",
            "0  0.203825  0.768657  0.167433  \n",
            "1  0.165349  0.603105  0.470279  \n",
            "2  0.095426  0.358939  0.365157  \n",
            "3  0.160024  0.625375  0.000000  \n",
            "4  0.392007  0.273059  0.313199   \n",
            "\n"
          ]
        }
      ],
      "source": [
        "from sklearn.preprocessing import MinMaxScaler\n",
        "Xn = df.drop(\"sex\", axis = 1).drop(\"cp\", axis = 1).drop(\"fbs\", axis = 1).drop(\"restecg\", axis = 1).drop(\"exang\", axis = 1).drop(\"target\", axis = 1).drop(\"slope\", axis = 1).drop(\"ca\", axis = 1).drop(\"thal\", axis = 1)\n",
        "df = df.drop(\"age\", axis = 1).drop(\"trestbps\", axis = 1).drop(\"chol\", axis = 1).drop(\"thalach\", axis = 1).drop(\"oldpeak\", axis = 1)\n",
        "\n",
        "print(Xn.head(5), \"\\n\")\n",
        "print(df.head(5), \"\\n\")\n",
        "\n",
        "min_max_scaler = MinMaxScaler()\n",
        "X_train_minmax = min_max_scaler.fit_transform(Xn)\n",
        "\n",
        "# Нормализация\n",
        "\n",
        "from sklearn import preprocessing\n",
        "\n",
        "X_normalized = preprocessing.normalize(X_train_minmax, norm='l2')\n",
        "#frame = pd.DataFrame(X_normalized)\n",
        "frame = pd.DataFrame(X_normalized, columns = ['age','trestbps','chol','thalach','oldpeak'])\n",
        "print(frame.head(5), \"\\n\")\n",
        "\n",
        "df = pd.concat([df,frame], axis=1)\n",
        "\n",
        "print(df.head(5), \"\\n\")"
      ]
    },
    {
      "cell_type": "code",
      "execution_count": 75,
      "id": "5268b0f2",
      "metadata": {
        "colab": {
          "base_uri": "https://localhost:8080/",
          "height": 206
        },
        "id": "5268b0f2",
        "outputId": "6b5171aa-2717-43c8-ee2a-378010a2c00b"
      },
      "outputs": [],
      "source": [
        "# #df['Категория'] = pd.cut(df['target'], bins=[0, 4, 7], labels=[0, 1]).astype(int)\n",
        "# #df\n",
        "\n",
        "\n",
        "# df['Категория'] = pd.cut(df['target'], bins=[0, 4, 7], labels=[0, 1]).astype(int)\n",
        "# from sklearn import preprocessing\n",
        "# X_train = df.iloc[:,:4]\n",
        "# X_normalized = preprocessing.normalize(X_train, norm='l2')\n",
        "# frame = pd.DataFrame(X_normalized, columns = ['Engine_Size','Cylinders','Fuel_Consumption_in_City(L/100 km)','Fuel_Consumption_in_City_Hwy(L/100 km)'])\n",
        "# frame['target'] = df['target']\n",
        "# frame['Категория'] = df['Категория']\n",
        "\n",
        "# df = frame\n",
        "# df.head(5)"
      ]
    },
    {
      "cell_type": "code",
      "execution_count": 76,
      "id": "e74acacf",
      "metadata": {
        "colab": {
          "base_uri": "https://localhost:8080/",
          "height": 424
        },
        "id": "e74acacf",
        "outputId": "b34a52c2-4aa0-4585-c9e6-b996fe9eacf9"
      },
      "outputs": [
        {
          "data": {
            "text/html": [
              "<div>\n",
              "<style scoped>\n",
              "    .dataframe tbody tr th:only-of-type {\n",
              "        vertical-align: middle;\n",
              "    }\n",
              "\n",
              "    .dataframe tbody tr th {\n",
              "        vertical-align: top;\n",
              "    }\n",
              "\n",
              "    .dataframe thead th {\n",
              "        text-align: right;\n",
              "    }\n",
              "</style>\n",
              "<table border=\"1\" class=\"dataframe\">\n",
              "  <thead>\n",
              "    <tr style=\"text-align: right;\">\n",
              "      <th></th>\n",
              "      <th>oldpeak</th>\n",
              "      <th>target</th>\n",
              "    </tr>\n",
              "  </thead>\n",
              "  <tbody>\n",
              "    <tr>\n",
              "      <th>0</th>\n",
              "      <td>0.167433</td>\n",
              "      <td>0</td>\n",
              "    </tr>\n",
              "    <tr>\n",
              "      <th>1</th>\n",
              "      <td>0.470279</td>\n",
              "      <td>0</td>\n",
              "    </tr>\n",
              "    <tr>\n",
              "      <th>2</th>\n",
              "      <td>0.365157</td>\n",
              "      <td>0</td>\n",
              "    </tr>\n",
              "    <tr>\n",
              "      <th>3</th>\n",
              "      <td>0.000000</td>\n",
              "      <td>0</td>\n",
              "    </tr>\n",
              "    <tr>\n",
              "      <th>4</th>\n",
              "      <td>0.313199</td>\n",
              "      <td>0</td>\n",
              "    </tr>\n",
              "    <tr>\n",
              "      <th>...</th>\n",
              "      <td>...</td>\n",
              "      <td>...</td>\n",
              "    </tr>\n",
              "    <tr>\n",
              "      <th>1020</th>\n",
              "      <td>0.000000</td>\n",
              "      <td>1</td>\n",
              "    </tr>\n",
              "    <tr>\n",
              "      <th>1021</th>\n",
              "      <td>0.433975</td>\n",
              "      <td>0</td>\n",
              "    </tr>\n",
              "    <tr>\n",
              "      <th>1022</th>\n",
              "      <td>0.244866</td>\n",
              "      <td>0</td>\n",
              "    </tr>\n",
              "    <tr>\n",
              "      <th>1023</th>\n",
              "      <td>0.000000</td>\n",
              "      <td>1</td>\n",
              "    </tr>\n",
              "    <tr>\n",
              "      <th>1024</th>\n",
              "      <td>0.317676</td>\n",
              "      <td>0</td>\n",
              "    </tr>\n",
              "  </tbody>\n",
              "</table>\n",
              "<p>1025 rows × 2 columns</p>\n",
              "</div>"
            ],
            "text/plain": [
              "       oldpeak  target\n",
              "0     0.167433       0\n",
              "1     0.470279       0\n",
              "2     0.365157       0\n",
              "3     0.000000       0\n",
              "4     0.313199       0\n",
              "...        ...     ...\n",
              "1020  0.000000       1\n",
              "1021  0.433975       0\n",
              "1022  0.244866       0\n",
              "1023  0.000000       1\n",
              "1024  0.317676       0\n",
              "\n",
              "[1025 rows x 2 columns]"
            ]
          },
          "execution_count": 76,
          "metadata": {},
          "output_type": "execute_result"
        }
      ],
      "source": [
        "x_y = df[['oldpeak', 'target']]\n",
        "x_y"
      ]
    },
    {
      "cell_type": "code",
      "execution_count": 77,
      "id": "f7252d76",
      "metadata": {
        "colab": {
          "base_uri": "https://localhost:8080/"
        },
        "id": "f7252d76",
        "outputId": "93136e0b-753a-48c4-d0db-536f149f781a"
      },
      "outputs": [
        {
          "data": {
            "text/plain": [
              "array([58, 97, 71, 90, 50, 48, 28, 74, 76, 93, 55, 64, 94, 37, 99, 31, 70,\n",
              "       25, 87, 62, 34, 29, 33, 80,  9, 92,  6, 42, 38, 84, 77, 86, 81, 36,\n",
              "       59, 41, 63,  8, 83, 49, 52, 79, 89, 44, 65, 21, 69, 26, 40,  2, 20,\n",
              "       47,  7, 45,  0, 73, 57, 13, 95, 24, 46, 67,  3, 82, 88, 32, 11, 15,\n",
              "       14, 43, 12, 56, 18, 30, 72, 16, 10, 60, 75,  1, 17, 98, 23, 27, 35,\n",
              "       96, 22, 68, 51, 19,  4, 78, 54, 66,  5, 91, 39, 61, 85, 53])"
            ]
          },
          "execution_count": 77,
          "metadata": {},
          "output_type": "execute_result"
        }
      ],
      "source": [
        "new_ind = np.arange(100)\n",
        "np.random.shuffle(new_ind)\n",
        "new_ind #"
      ]
    },
    {
      "cell_type": "code",
      "execution_count": 78,
      "id": "ff46cec2",
      "metadata": {
        "id": "ff46cec2"
      },
      "outputs": [],
      "source": [
        "train_idx = new_ind[:170]\n",
        "test_idx = new_ind[170:]"
      ]
    },
    {
      "cell_type": "code",
      "execution_count": 79,
      "id": "4164000b",
      "metadata": {
        "id": "4164000b"
      },
      "outputs": [],
      "source": [
        "x_y_train = x_y.iloc[train_idx]"
      ]
    },
    {
      "cell_type": "code",
      "execution_count": 80,
      "id": "2cf0584b",
      "metadata": {
        "colab": {
          "base_uri": "https://localhost:8080/",
          "height": 447
        },
        "id": "2cf0584b",
        "outputId": "a4e67a2c-8893-4d19-80bd-d3a92c1393cc"
      },
      "outputs": [
        {
          "data": {
            "text/plain": [
              "<Axes: >"
            ]
          },
          "execution_count": 80,
          "metadata": {},
          "output_type": "execute_result"
        }
      ],
      "source": [
        "x_y_train.boxplot(column=['oldpeak'])"
      ]
    },
    {
      "cell_type": "code",
      "execution_count": 81,
      "id": "854dbcb1",
      "metadata": {
        "id": "854dbcb1"
      },
      "outputs": [],
      "source": [
        "# используя эти индексы разделим массивы данных на обучающие и тестовые\n",
        "x_train, y_train = x_y_train['oldpeak'], x_y_train['target']# обучающие вход и желаемый выход\n",
        "x_test, y_test = x_y['oldpeak'][test_idx], x_y['target'][test_idx]# тестовые вход и желаемый выход"
      ]
    },
    {
      "cell_type": "code",
      "execution_count": 82,
      "id": "097023d5",
      "metadata": {
        "colab": {
          "base_uri": "https://localhost:8080/",
          "height": 430
        },
        "id": "097023d5",
        "outputId": "1ab9877f-ed14-44c2-9c05-703cbcaf5b38"
      },
      "outputs": [],
      "source": [
        "# plt_my('scatter', x_train, y_train, color='green') # рисуем обучающие данные, зависимость желаемого выхода от входа\n",
        "# #plt.scatter(x_test, y_test,  color='green')\n",
        "# plt.show()"
      ]
    },
    {
      "cell_type": "markdown",
      "id": "5eca3999",
      "metadata": {
        "id": "5eca3999"
      },
      "source": [
        "## Обучение"
      ]
    },
    {
      "cell_type": "markdown",
      "id": "fb91df3d",
      "metadata": {
        "id": "fb91df3d"
      },
      "source": [
        "### Гиперпараметры"
      ]
    },
    {
      "cell_type": "code",
      "execution_count": 83,
      "id": "47eda601",
      "metadata": {
        "id": "47eda601"
      },
      "outputs": [],
      "source": [
        "lr = 1e-3 # шаг обучения\n",
        "epochs = 3500 # количество эпох"
      ]
    },
    {
      "cell_type": "code",
      "execution_count": 84,
      "id": "a34d41a6",
      "metadata": {
        "colab": {
          "base_uri": "https://localhost:8080/"
        },
        "id": "a34d41a6",
        "outputId": "9ff521c0-2f08-4c35-f7e5-cbed53cf30b5"
      },
      "outputs": [
        {
          "data": {
            "text/plain": [
              "array([-0.97292734])"
            ]
          },
          "execution_count": 84,
          "metadata": {},
          "output_type": "execute_result"
        }
      ],
      "source": [
        "a =  np.random.randn(1) # случайное число для параметра a\n",
        "a"
      ]
    },
    {
      "cell_type": "code",
      "execution_count": 85,
      "id": "75465c1e",
      "metadata": {
        "colab": {
          "base_uri": "https://localhost:8080/"
        },
        "id": "75465c1e",
        "outputId": "57841b6a-8b94-4939-fd62-7f51dd426a8c"
      },
      "outputs": [
        {
          "data": {
            "text/plain": [
              "array([0.52411686])"
            ]
          },
          "execution_count": 85,
          "metadata": {},
          "output_type": "execute_result"
        }
      ],
      "source": [
        "b = np.random.rand(1) # случайное число для параметра b\n",
        "b"
      ]
    },
    {
      "cell_type": "code",
      "execution_count": 86,
      "id": "8daea6f9",
      "metadata": {
        "colab": {
          "base_uri": "https://localhost:8080/"
        },
        "id": "8daea6f9",
        "outputId": "cbf7e893-36fb-463f-d15b-bd39d8cddccd"
      },
      "outputs": [
        {
          "name": "stdout",
          "output_type": "stream",
          "text": [
            "ep:   0  loss: 0.206610   a=-0.973  b=0.524\n",
            "ep:  20  loss: 0.205044   a=-0.972  b=0.530\n",
            "ep:  40  loss: 0.203602   a=-0.972  b=0.535\n"
          ]
        },
        {
          "name": "stderr",
          "output_type": "stream",
          "text": [
            "/tmp/ipykernel_37073/282680933.py:17: DeprecationWarning: Conversion of an array with ndim > 0 to a scalar is deprecated, and will error in future. Ensure you extract a single element from your array before performing this operation. (Deprecated NumPy 1.25.)\n",
            "  print('ep: %3d  loss: %8.6f   a=%4.3f  b=%4.3f'%(ep,loss,a,b)) # печатать значение функции ошибки\n"
          ]
        },
        {
          "name": "stdout",
          "output_type": "stream",
          "text": [
            "ep:  60  loss: 0.202275   a=-0.971  b=0.540\n",
            "ep:  80  loss: 0.201053   a=-0.970  b=0.545\n",
            "ep: 100  loss: 0.199929   a=-0.970  b=0.550\n",
            "ep: 120  loss: 0.198893   a=-0.969  b=0.555\n",
            "ep: 140  loss: 0.197940   a=-0.969  b=0.559\n",
            "ep: 160  loss: 0.197062   a=-0.969  b=0.563\n",
            "ep: 180  loss: 0.196253   a=-0.968  b=0.567\n",
            "ep: 200  loss: 0.195509   a=-0.968  b=0.571\n",
            "ep: 220  loss: 0.194823   a=-0.968  b=0.575\n",
            "ep: 240  loss: 0.194192   a=-0.967  b=0.578\n",
            "ep: 260  loss: 0.193610   a=-0.967  b=0.581\n",
            "ep: 280  loss: 0.193074   a=-0.967  b=0.585\n",
            "ep: 300  loss: 0.192580   a=-0.967  b=0.588\n",
            "ep: 320  loss: 0.192125   a=-0.966  b=0.591\n",
            "ep: 340  loss: 0.191705   a=-0.966  b=0.594\n",
            "ep: 360  loss: 0.191318   a=-0.966  b=0.597\n",
            "ep: 380  loss: 0.190962   a=-0.966  b=0.599\n",
            "ep: 400  loss: 0.190633   a=-0.966  b=0.602\n",
            "ep: 420  loss: 0.190330   a=-0.966  b=0.604\n",
            "ep: 440  loss: 0.190050   a=-0.966  b=0.607\n",
            "ep: 460  loss: 0.189792   a=-0.966  b=0.609\n",
            "ep: 480  loss: 0.189554   a=-0.966  b=0.611\n",
            "ep: 500  loss: 0.189334   a=-0.966  b=0.613\n",
            "ep: 520  loss: 0.189131   a=-0.966  b=0.615\n",
            "ep: 540  loss: 0.188943   a=-0.966  b=0.617\n",
            "ep: 560  loss: 0.188770   a=-0.966  b=0.619\n",
            "ep: 580  loss: 0.188610   a=-0.966  b=0.621\n",
            "ep: 600  loss: 0.188461   a=-0.966  b=0.622\n",
            "ep: 620  loss: 0.188324   a=-0.966  b=0.624\n",
            "ep: 640  loss: 0.188197   a=-0.967  b=0.626\n",
            "ep: 660  loss: 0.188080   a=-0.967  b=0.627\n",
            "ep: 680  loss: 0.187971   a=-0.967  b=0.629\n",
            "ep: 700  loss: 0.187870   a=-0.967  b=0.630\n",
            "ep: 720  loss: 0.187777   a=-0.967  b=0.631\n",
            "ep: 740  loss: 0.187690   a=-0.967  b=0.633\n",
            "ep: 760  loss: 0.187609   a=-0.968  b=0.634\n",
            "ep: 780  loss: 0.187535   a=-0.968  b=0.635\n",
            "ep: 800  loss: 0.187465   a=-0.968  b=0.636\n",
            "ep: 820  loss: 0.187400   a=-0.968  b=0.637\n",
            "ep: 840  loss: 0.187340   a=-0.968  b=0.639\n",
            "ep: 860  loss: 0.187284   a=-0.969  b=0.640\n",
            "ep: 880  loss: 0.187231   a=-0.969  b=0.641\n",
            "ep: 900  loss: 0.187182   a=-0.969  b=0.642\n",
            "ep: 920  loss: 0.187136   a=-0.969  b=0.642\n",
            "ep: 940  loss: 0.187094   a=-0.970  b=0.643\n",
            "ep: 960  loss: 0.187053   a=-0.970  b=0.644\n",
            "ep: 980  loss: 0.187016   a=-0.970  b=0.645\n"
          ]
        },
        {
          "name": "stdout",
          "output_type": "stream",
          "text": [
            "ep: 1000  loss: 0.186980   a=-0.970  b=0.646\n",
            "ep: 1020  loss: 0.186947   a=-0.971  b=0.647\n",
            "ep: 1040  loss: 0.186916   a=-0.971  b=0.647\n",
            "ep: 1060  loss: 0.186886   a=-0.971  b=0.648\n",
            "ep: 1080  loss: 0.186859   a=-0.972  b=0.649\n",
            "ep: 1100  loss: 0.186832   a=-0.972  b=0.649\n",
            "ep: 1120  loss: 0.186807   a=-0.972  b=0.650\n",
            "ep: 1140  loss: 0.186784   a=-0.972  b=0.651\n",
            "ep: 1160  loss: 0.186761   a=-0.973  b=0.651\n",
            "ep: 1180  loss: 0.186740   a=-0.973  b=0.652\n",
            "ep: 1200  loss: 0.186720   a=-0.973  b=0.652\n",
            "ep: 1220  loss: 0.186701   a=-0.974  b=0.653\n",
            "ep: 1240  loss: 0.186682   a=-0.974  b=0.653\n",
            "ep: 1260  loss: 0.186664   a=-0.974  b=0.654\n",
            "ep: 1280  loss: 0.186647   a=-0.975  b=0.654\n",
            "ep: 1300  loss: 0.186631   a=-0.975  b=0.655\n",
            "ep: 1320  loss: 0.186615   a=-0.975  b=0.655\n",
            "ep: 1340  loss: 0.186600   a=-0.976  b=0.656\n",
            "ep: 1360  loss: 0.186586   a=-0.976  b=0.656\n",
            "ep: 1380  loss: 0.186572   a=-0.976  b=0.657\n",
            "ep: 1400  loss: 0.186558   a=-0.977  b=0.657\n",
            "ep: 1420  loss: 0.186545   a=-0.977  b=0.657\n",
            "ep: 1440  loss: 0.186532   a=-0.977  b=0.658\n",
            "ep: 1460  loss: 0.186520   a=-0.978  b=0.658\n",
            "ep: 1480  loss: 0.186508   a=-0.978  b=0.658\n",
            "ep: 1500  loss: 0.186496   a=-0.978  b=0.659\n",
            "ep: 1520  loss: 0.186484   a=-0.979  b=0.659\n",
            "ep: 1540  loss: 0.186473   a=-0.979  b=0.659\n",
            "ep: 1560  loss: 0.186462   a=-0.979  b=0.660\n",
            "ep: 1580  loss: 0.186451   a=-0.980  b=0.660\n",
            "ep: 1600  loss: 0.186441   a=-0.980  b=0.660\n",
            "ep: 1620  loss: 0.186431   a=-0.981  b=0.660\n",
            "ep: 1640  loss: 0.186420   a=-0.981  b=0.661\n",
            "ep: 1660  loss: 0.186410   a=-0.981  b=0.661\n",
            "ep: 1680  loss: 0.186401   a=-0.982  b=0.661\n",
            "ep: 1700  loss: 0.186391   a=-0.982  b=0.662\n",
            "ep: 1720  loss: 0.186381   a=-0.982  b=0.662\n",
            "ep: 1740  loss: 0.186372   a=-0.983  b=0.662\n",
            "ep: 1760  loss: 0.186363   a=-0.983  b=0.662\n",
            "ep: 1780  loss: 0.186354   a=-0.983  b=0.662\n",
            "ep: 1800  loss: 0.186345   a=-0.984  b=0.663\n",
            "ep: 1820  loss: 0.186336   a=-0.984  b=0.663\n",
            "ep: 1840  loss: 0.186327   a=-0.985  b=0.663\n",
            "ep: 1860  loss: 0.186318   a=-0.985  b=0.663\n",
            "ep: 1880  loss: 0.186309   a=-0.985  b=0.663\n",
            "ep: 1900  loss: 0.186301   a=-0.986  b=0.664\n",
            "ep: 1920  loss: 0.186292   a=-0.986  b=0.664\n",
            "ep: 1940  loss: 0.186284   a=-0.986  b=0.664\n",
            "ep: 1960  loss: 0.186275   a=-0.987  b=0.664\n",
            "ep: 1980  loss: 0.186267   a=-0.987  b=0.664\n",
            "ep: 2000  loss: 0.186259   a=-0.988  b=0.665\n",
            "ep: 2020  loss: 0.186251   a=-0.988  b=0.665\n",
            "ep: 2040  loss: 0.186242   a=-0.988  b=0.665\n",
            "ep: 2060  loss: 0.186234   a=-0.989  b=0.665\n",
            "ep: 2080  loss: 0.186226   a=-0.989  b=0.665\n",
            "ep: 2100  loss: 0.186218   a=-0.989  b=0.665\n",
            "ep: 2120  loss: 0.186210   a=-0.990  b=0.665\n",
            "ep: 2140  loss: 0.186203   a=-0.990  b=0.666\n",
            "ep: 2160  loss: 0.186195   a=-0.990  b=0.666\n",
            "ep: 2180  loss: 0.186187   a=-0.991  b=0.666\n",
            "ep: 2200  loss: 0.186179   a=-0.991  b=0.666\n",
            "ep: 2220  loss: 0.186171   a=-0.992  b=0.666\n",
            "ep: 2240  loss: 0.186164   a=-0.992  b=0.666\n",
            "ep: 2260  loss: 0.186156   a=-0.992  b=0.666\n",
            "ep: 2280  loss: 0.186148   a=-0.993  b=0.667\n",
            "ep: 2300  loss: 0.186141   a=-0.993  b=0.667\n",
            "ep: 2320  loss: 0.186133   a=-0.993  b=0.667\n",
            "ep: 2340  loss: 0.186126   a=-0.994  b=0.667\n",
            "ep: 2360  loss: 0.186118   a=-0.994  b=0.667\n",
            "ep: 2380  loss: 0.186111   a=-0.995  b=0.667\n",
            "ep: 2400  loss: 0.186103   a=-0.995  b=0.667\n",
            "ep: 2420  loss: 0.186096   a=-0.995  b=0.667\n",
            "ep: 2440  loss: 0.186089   a=-0.996  b=0.668\n",
            "ep: 2460  loss: 0.186081   a=-0.996  b=0.668\n",
            "ep: 2480  loss: 0.186074   a=-0.996  b=0.668\n",
            "ep: 2500  loss: 0.186067   a=-0.997  b=0.668\n",
            "ep: 2520  loss: 0.186060   a=-0.997  b=0.668\n",
            "ep: 2540  loss: 0.186052   a=-0.997  b=0.668\n",
            "ep: 2560  loss: 0.186045   a=-0.998  b=0.668\n",
            "ep: 2580  loss: 0.186038   a=-0.998  b=0.668\n",
            "ep: 2600  loss: 0.186031   a=-0.999  b=0.668\n",
            "ep: 2620  loss: 0.186024   a=-0.999  b=0.668\n",
            "ep: 2640  loss: 0.186017   a=-0.999  b=0.669\n",
            "ep: 2660  loss: 0.186010   a=-1.000  b=0.669\n",
            "ep: 2680  loss: 0.186003   a=-1.000  b=0.669\n",
            "ep: 2700  loss: 0.185996   a=-1.000  b=0.669\n",
            "ep: 2720  loss: 0.185989   a=-1.001  b=0.669\n",
            "ep: 2740  loss: 0.185982   a=-1.001  b=0.669\n",
            "ep: 2760  loss: 0.185975   a=-1.001  b=0.669\n",
            "ep: 2780  loss: 0.185968   a=-1.002  b=0.669\n",
            "ep: 2800  loss: 0.185961   a=-1.002  b=0.669\n",
            "ep: 2820  loss: 0.185954   a=-1.003  b=0.669\n",
            "ep: 2840  loss: 0.185947   a=-1.003  b=0.670\n",
            "ep: 2860  loss: 0.185941   a=-1.003  b=0.670\n",
            "ep: 2880  loss: 0.185934   a=-1.004  b=0.670\n",
            "ep: 2900  loss: 0.185927   a=-1.004  b=0.670\n",
            "ep: 2920  loss: 0.185920   a=-1.004  b=0.670\n",
            "ep: 2940  loss: 0.185914   a=-1.005  b=0.670\n",
            "ep: 2960  loss: 0.185907   a=-1.005  b=0.670\n",
            "ep: 2980  loss: 0.185900   a=-1.005  b=0.670\n",
            "ep: 3000  loss: 0.185894   a=-1.006  b=0.670\n",
            "ep: 3020  loss: 0.185887   a=-1.006  b=0.670\n",
            "ep: 3040  loss: 0.185880   a=-1.006  b=0.670\n",
            "ep: 3060  loss: 0.185874   a=-1.007  b=0.670\n",
            "ep: 3080  loss: 0.185867   a=-1.007  b=0.671\n",
            "ep: 3100  loss: 0.185861   a=-1.007  b=0.671\n",
            "ep: 3120  loss: 0.185854   a=-1.008  b=0.671\n",
            "ep: 3140  loss: 0.185848   a=-1.008  b=0.671\n",
            "ep: 3160  loss: 0.185841   a=-1.009  b=0.671\n",
            "ep: 3180  loss: 0.185835   a=-1.009  b=0.671\n",
            "ep: 3200  loss: 0.185828   a=-1.009  b=0.671\n",
            "ep: 3220  loss: 0.185822   a=-1.010  b=0.671\n",
            "ep: 3240  loss: 0.185816   a=-1.010  b=0.671\n",
            "ep: 3260  loss: 0.185809   a=-1.010  b=0.671\n",
            "ep: 3280  loss: 0.185803   a=-1.011  b=0.671\n",
            "ep: 3300  loss: 0.185797   a=-1.011  b=0.671\n",
            "ep: 3320  loss: 0.185790   a=-1.011  b=0.672\n",
            "ep: 3340  loss: 0.185784   a=-1.012  b=0.672\n",
            "ep: 3360  loss: 0.185778   a=-1.012  b=0.672\n",
            "ep: 3380  loss: 0.185772   a=-1.012  b=0.672\n",
            "ep: 3400  loss: 0.185765   a=-1.013  b=0.672\n",
            "ep: 3420  loss: 0.185759   a=-1.013  b=0.672\n",
            "ep: 3440  loss: 0.185753   a=-1.013  b=0.672\n",
            "ep: 3460  loss: 0.185747   a=-1.014  b=0.672\n",
            "ep: 3480  loss: 0.185741   a=-1.014  b=0.672\n",
            "ep: 3499  loss: 0.185735   a=-1.014  b=0.672\n"
          ]
        }
      ],
      "source": [
        "# ЦИКЛ ОБУЧЕНИЯ\n",
        "Loss=[]# массив для значений функции ошибки\n",
        "for ep in range(epochs): # в цикле по количеству эпох\n",
        "    y_pred = b + a*x_train # считаем выход модели для всех примеров входов с текущими значениями параметров модели\n",
        "    error = (y_pred - y_train) # считаем разницу между полученным выходом и тем, который должен был быть\n",
        "\n",
        "    loss = (error**2).mean() # считаем суммарную ошибку. Функция среднего mean() как замена суммирования по всем примерам\n",
        "    Loss.append(loss) # добавлем текущее значение в массив\n",
        "    b_grad = 2 * error.mean() # считаем производную по параметру, смещению b (на 2 можно не умножать включив его в lr)\n",
        "    a_grad = 2 * (x_train * error).mean() # считаем производную по параметру, множителю a\n",
        "\n",
        "    # обучение = изменение параметров\n",
        "    a = a - lr*a_grad # изменяем параметр a\n",
        "    b = b - lr*b_grad # изменяем параметр b\n",
        "\n",
        "    if ep % 20 == 0 or ep==epochs-1: # каждые 20 эпох будем\n",
        "        print('ep: %3d  loss: %8.6f   a=%4.3f  b=%4.3f'%(ep,loss,a,b)) # печатать значение функции ошибки"
      ]
    },
    {
      "cell_type": "code",
      "execution_count": 87,
      "id": "f61549fe",
      "metadata": {
        "id": "f61549fe"
      },
      "outputs": [],
      "source": [
        "y_test_pred = b + a*x_test # рассчитаем выходы модели на тестовых примерах входов\n",
        "#у нас уже были соответствующие желаемые тестовые выходы для них в y_test"
      ]
    },
    {
      "cell_type": "code",
      "execution_count": 88,
      "id": "7d5e7612",
      "metadata": {
        "colab": {
          "base_uri": "https://localhost:8080/",
          "height": 430
        },
        "id": "7d5e7612",
        "outputId": "4f66dd81-9458-4835-e2c4-4e5cc5c35195"
      },
      "outputs": [
        {
          "data": {
            "image/png": "[encoded data removed]",
            "text/plain": [
              "<Figure size 640x480 with 1 Axes>"
            ]
          },
          "metadata": {},
          "output_type": "display_data"
        }
      ],
      "source": [
        "# нарисуем\n",
        "import matplotlib.pyplot as plt\n",
        "plt.scatter(x_test, y_test,  color='black')\n",
        "plt.plot(x_test, y_test_pred, color='blue', linewidth=3)\n",
        "plt.show()"
      ]
    },
    {
      "cell_type": "code",
      "execution_count": 89,
      "id": "SvtwHTHZ-fyE",
      "metadata": {
        "colab": {
          "base_uri": "https://localhost:8080/",
          "height": 430
        },
        "id": "SvtwHTHZ-fyE",
        "outputId": "bd3fb1e4-7d61-4a63-e024-d38a1225c80b"
      },
      "outputs": [],
      "source": [
        "# посмотрим на функцию ошибки\n",
        "from matplotlib import pyplot as plt  #\n",
        "plt.plot(np.arange(epochs), Loss, color='green') # рисуем\n",
        "plt.yscale('log') # логарифмический масштаб для наглядности"
      ]
    },
    {
      "cell_type": "markdown",
      "id": "765a52e2",
      "metadata": {
        "id": "765a52e2"
      },
      "source": [
        "## Логистическая регрессия"
      ]
    },
    {
      "cell_type": "code",
      "execution_count": 90,
      "id": "118e7a81",
      "metadata": {},
      "outputs": [
        {
          "data": {
            "text/html": [
              "<div>\n",
              "<style scoped>\n",
              "    .dataframe tbody tr th:only-of-type {\n",
              "        vertical-align: middle;\n",
              "    }\n",
              "\n",
              "    .dataframe tbody tr th {\n",
              "        vertical-align: top;\n",
              "    }\n",
              "\n",
              "    .dataframe thead th {\n",
              "        text-align: right;\n",
              "    }\n",
              "</style>\n",
              "<table border=\"1\" class=\"dataframe\">\n",
              "  <thead>\n",
              "    <tr style=\"text-align: right;\">\n",
              "      <th></th>\n",
              "      <th>sex</th>\n",
              "      <th>cp</th>\n",
              "      <th>fbs</th>\n",
              "      <th>restecg</th>\n",
              "      <th>exang</th>\n",
              "      <th>slope</th>\n",
              "      <th>ca</th>\n",
              "      <th>thal</th>\n",
              "      <th>target</th>\n",
              "      <th>age</th>\n",
              "      <th>trestbps</th>\n",
              "      <th>chol</th>\n",
              "      <th>thalach</th>\n",
              "      <th>oldpeak</th>\n",
              "    </tr>\n",
              "  </thead>\n",
              "  <tbody>\n",
              "    <tr>\n",
              "      <th>0</th>\n",
              "      <td>1.0</td>\n",
              "      <td>0.0</td>\n",
              "      <td>0.0</td>\n",
              "      <td>1.0</td>\n",
              "      <td>0.0</td>\n",
              "      <td>2.0</td>\n",
              "      <td>2.0</td>\n",
              "      <td>3.0</td>\n",
              "      <td>0.0</td>\n",
              "      <td>0.497415</td>\n",
              "      <td>0.303590</td>\n",
              "      <td>0.203825</td>\n",
              "      <td>0.768657</td>\n",
              "      <td>0.167433</td>\n",
              "    </tr>\n",
              "    <tr>\n",
              "      <th>1</th>\n",
              "      <td>1.0</td>\n",
              "      <td>0.0</td>\n",
              "      <td>1.0</td>\n",
              "      <td>0.0</td>\n",
              "      <td>1.0</td>\n",
              "      <td>0.0</td>\n",
              "      <td>0.0</td>\n",
              "      <td>3.0</td>\n",
              "      <td>0.0</td>\n",
              "      <td>0.470279</td>\n",
              "      <td>0.408166</td>\n",
              "      <td>0.165349</td>\n",
              "      <td>0.603105</td>\n",
              "      <td>0.470279</td>\n",
              "    </tr>\n",
              "    <tr>\n",
              "      <th>2</th>\n",
              "      <td>1.0</td>\n",
              "      <td>0.0</td>\n",
              "      <td>0.0</td>\n",
              "      <td>1.0</td>\n",
              "      <td>1.0</td>\n",
              "      <td>0.0</td>\n",
              "      <td>0.0</td>\n",
              "      <td>3.0</td>\n",
              "      <td>0.0</td>\n",
              "      <td>0.743773</td>\n",
              "      <td>0.418950</td>\n",
              "      <td>0.095426</td>\n",
              "      <td>0.358939</td>\n",
              "      <td>0.365157</td>\n",
              "    </tr>\n",
              "    <tr>\n",
              "      <th>3</th>\n",
              "      <td>1.0</td>\n",
              "      <td>0.0</td>\n",
              "      <td>0.0</td>\n",
              "      <td>1.0</td>\n",
              "      <td>0.0</td>\n",
              "      <td>2.0</td>\n",
              "      <td>1.0</td>\n",
              "      <td>3.0</td>\n",
              "      <td>0.0</td>\n",
              "      <td>0.606845</td>\n",
              "      <td>0.463721</td>\n",
              "      <td>0.160024</td>\n",
              "      <td>0.625375</td>\n",
              "      <td>0.000000</td>\n",
              "    </tr>\n",
              "    <tr>\n",
              "      <th>4</th>\n",
              "      <td>0.0</td>\n",
              "      <td>0.0</td>\n",
              "      <td>1.0</td>\n",
              "      <td>1.0</td>\n",
              "      <td>0.0</td>\n",
              "      <td>1.0</td>\n",
              "      <td>3.0</td>\n",
              "      <td>2.0</td>\n",
              "      <td>0.0</td>\n",
              "      <td>0.702638</td>\n",
              "      <td>0.424234</td>\n",
              "      <td>0.392007</td>\n",
              "      <td>0.273059</td>\n",
              "      <td>0.313199</td>\n",
              "    </tr>\n",
              "    <tr>\n",
              "      <th>...</th>\n",
              "      <td>...</td>\n",
              "      <td>...</td>\n",
              "      <td>...</td>\n",
              "      <td>...</td>\n",
              "      <td>...</td>\n",
              "      <td>...</td>\n",
              "      <td>...</td>\n",
              "      <td>...</td>\n",
              "      <td>...</td>\n",
              "      <td>...</td>\n",
              "      <td>...</td>\n",
              "      <td>...</td>\n",
              "      <td>...</td>\n",
              "      <td>...</td>\n",
              "    </tr>\n",
              "    <tr>\n",
              "      <th>1020</th>\n",
              "      <td>1.0</td>\n",
              "      <td>1.0</td>\n",
              "      <td>0.0</td>\n",
              "      <td>1.0</td>\n",
              "      <td>1.0</td>\n",
              "      <td>2.0</td>\n",
              "      <td>0.0</td>\n",
              "      <td>2.0</td>\n",
              "      <td>1.0</td>\n",
              "      <td>0.587955</td>\n",
              "      <td>0.408240</td>\n",
              "      <td>0.204039</td>\n",
              "      <td>0.667845</td>\n",
              "      <td>0.000000</td>\n",
              "    </tr>\n",
              "    <tr>\n",
              "      <th>1021</th>\n",
              "      <td>1.0</td>\n",
              "      <td>0.0</td>\n",
              "      <td>0.0</td>\n",
              "      <td>0.0</td>\n",
              "      <td>1.0</td>\n",
              "      <td>1.0</td>\n",
              "      <td>1.0</td>\n",
              "      <td>3.0</td>\n",
              "      <td>0.0</td>\n",
              "      <td>0.620610</td>\n",
              "      <td>0.281031</td>\n",
              "      <td>0.289600</td>\n",
              "      <td>0.513482</td>\n",
              "      <td>0.433975</td>\n",
              "    </tr>\n",
              "    <tr>\n",
              "      <th>1022</th>\n",
              "      <td>1.0</td>\n",
              "      <td>0.0</td>\n",
              "      <td>0.0</td>\n",
              "      <td>0.0</td>\n",
              "      <td>1.0</td>\n",
              "      <td>1.0</td>\n",
              "      <td>1.0</td>\n",
              "      <td>2.0</td>\n",
              "      <td>0.0</td>\n",
              "      <td>0.569314</td>\n",
              "      <td>0.229158</td>\n",
              "      <td>0.516455</td>\n",
              "      <td>0.544687</td>\n",
              "      <td>0.244866</td>\n",
              "    </tr>\n",
              "    <tr>\n",
              "      <th>1023</th>\n",
              "      <td>0.0</td>\n",
              "      <td>0.0</td>\n",
              "      <td>0.0</td>\n",
              "      <td>0.0</td>\n",
              "      <td>0.0</td>\n",
              "      <td>2.0</td>\n",
              "      <td>0.0</td>\n",
              "      <td>2.0</td>\n",
              "      <td>1.0</td>\n",
              "      <td>0.504896</td>\n",
              "      <td>0.174196</td>\n",
              "      <td>0.337256</td>\n",
              "      <td>0.775238</td>\n",
              "      <td>0.000000</td>\n",
              "    </tr>\n",
              "    <tr>\n",
              "      <th>1024</th>\n",
              "      <td>1.0</td>\n",
              "      <td>0.0</td>\n",
              "      <td>0.0</td>\n",
              "      <td>1.0</td>\n",
              "      <td>0.0</td>\n",
              "      <td>1.0</td>\n",
              "      <td>1.0</td>\n",
              "      <td>3.0</td>\n",
              "      <td>0.0</td>\n",
              "      <td>0.732734</td>\n",
              "      <td>0.345076</td>\n",
              "      <td>0.199143</td>\n",
              "      <td>0.451051</td>\n",
              "      <td>0.317676</td>\n",
              "    </tr>\n",
              "  </tbody>\n",
              "</table>\n",
              "<p>1025 rows × 14 columns</p>\n",
              "</div>"
            ],
            "text/plain": [
              "      sex   cp  fbs  restecg  exang  slope   ca  thal  target       age  \\\n",
              "0     1.0  0.0  0.0      1.0    0.0    2.0  2.0   3.0     0.0  0.497415   \n",
              "1     1.0  0.0  1.0      0.0    1.0    0.0  0.0   3.0     0.0  0.470279   \n",
              "2     1.0  0.0  0.0      1.0    1.0    0.0  0.0   3.0     0.0  0.743773   \n",
              "3     1.0  0.0  0.0      1.0    0.0    2.0  1.0   3.0     0.0  0.606845   \n",
              "4     0.0  0.0  1.0      1.0    0.0    1.0  3.0   2.0     0.0  0.702638   \n",
              "...   ...  ...  ...      ...    ...    ...  ...   ...     ...       ...   \n",
              "1020  1.0  1.0  0.0      1.0    1.0    2.0  0.0   2.0     1.0  0.587955   \n",
              "1021  1.0  0.0  0.0      0.0    1.0    1.0  1.0   3.0     0.0  0.620610   \n",
              "1022  1.0  0.0  0.0      0.0    1.0    1.0  1.0   2.0     0.0  0.569314   \n",
              "1023  0.0  0.0  0.0      0.0    0.0    2.0  0.0   2.0     1.0  0.504896   \n",
              "1024  1.0  0.0  0.0      1.0    0.0    1.0  1.0   3.0     0.0  0.732734   \n",
              "\n",
              "      trestbps      chol   thalach   oldpeak  \n",
              "0     0.303590  0.203825  0.768657  0.167433  \n",
              "1     0.408166  0.165349  0.603105  0.470279  \n",
              "2     0.418950  0.095426  0.358939  0.365157  \n",
              "3     0.463721  0.160024  0.625375  0.000000  \n",
              "4     0.424234  0.392007  0.273059  0.313199  \n",
              "...        ...       ...       ...       ...  \n",
              "1020  0.408240  0.204039  0.667845  0.000000  \n",
              "1021  0.281031  0.289600  0.513482  0.433975  \n",
              "1022  0.229158  0.516455  0.544687  0.244866  \n",
              "1023  0.174196  0.337256  0.775238  0.000000  \n",
              "1024  0.345076  0.199143  0.451051  0.317676  \n",
              "\n",
              "[1025 rows x 14 columns]"
            ]
          },
          "execution_count": 90,
          "metadata": {},
          "output_type": "execute_result"
        }
      ],
      "source": [
        "cols = df.select_dtypes(exclude=['float']).columns\n",
        "\n",
        "df[cols] = df[cols].apply(pd.to_numeric, downcast='float', errors='coerce')\n",
        "\n",
        "df"
      ]
    },
    {
      "cell_type": "code",
      "execution_count": 91,
      "id": "b21b6432",
      "metadata": {
        "id": "b21b6432"
      },
      "outputs": [],
      "source": [
        "X=df.iloc[:,:7]\n",
        "y=df.iloc[:,8]"
      ]
    },
    {
      "cell_type": "code",
      "execution_count": 92,
      "id": "94d31268",
      "metadata": {
        "colab": {
          "base_uri": "https://localhost:8080/",
          "height": 424
        },
        "id": "94d31268",
        "outputId": "a8abb9b0-b7fb-4a1e-fb19-00768d033d87"
      },
      "outputs": [
        {
          "name": "stdout",
          "output_type": "stream",
          "text": [
            "sex        float32\n",
            "cp         float32\n",
            "fbs        float32\n",
            "restecg    float32\n",
            "exang      float32\n",
            "slope      float32\n",
            "ca         float32\n",
            "dtype: object\n"
          ]
        }
      ],
      "source": [
        "X\n",
        "print(X.dtypes)"
      ]
    },
    {
      "cell_type": "code",
      "execution_count": 93,
      "id": "38104281",
      "metadata": {
        "colab": {
          "base_uri": "https://localhost:8080/"
        },
        "id": "38104281",
        "outputId": "2e5da56a-e1f3-4e4e-a877-14613d413570"
      },
      "outputs": [
        {
          "data": {
            "text/plain": [
              "0       0.0\n",
              "1       0.0\n",
              "2       0.0\n",
              "3       0.0\n",
              "4       0.0\n",
              "       ... \n",
              "1020    1.0\n",
              "1021    0.0\n",
              "1022    0.0\n",
              "1023    1.0\n",
              "1024    0.0\n",
              "Name: target, Length: 1025, dtype: float32"
            ]
          },
          "execution_count": 93,
          "metadata": {},
          "output_type": "execute_result"
        }
      ],
      "source": [
        "y"
      ]
    },
    {
      "cell_type": "code",
      "execution_count": 94,
      "id": "a42e12d5",
      "metadata": {
        "id": "a42e12d5"
      },
      "outputs": [],
      "source": [
        "X_train, X_test, y_train, y_test = train_test_split(X, y, test_size=.5, random_state=0) #разбиваем выборку на обучающую и тестовую"
      ]
    },
    {
      "cell_type": "code",
      "execution_count": 95,
      "id": "cdc9cd38",
      "metadata": {
        "id": "cdc9cd38"
      },
      "outputs": [],
      "source": [
        "#настройка параметров модели\n",
        "model = LogisticRegression()\n",
        "y_scor=model.fit(X_train, y_train)\n",
        "y_score=y_scor.predict(X_test)"
      ]
    },
    {
      "cell_type": "code",
      "execution_count": 96,
      "id": "c772dc39",
      "metadata": {
        "colab": {
          "base_uri": "https://localhost:8080/"
        },
        "id": "c772dc39",
        "outputId": "419506c6-78b9-468d-da92-ba7baa127433"
      },
      "outputs": [
        {
          "name": "stdout",
          "output_type": "stream",
          "text": [
            "              precision    recall  f1-score   support\n",
            "\n",
            "         0.0       0.81      0.83      0.82       241\n",
            "         1.0       0.84      0.83      0.83       272\n",
            "\n",
            "    accuracy                           0.83       513\n",
            "   macro avg       0.83      0.83      0.83       513\n",
            "weighted avg       0.83      0.83      0.83       513\n",
            "\n"
          ]
        }
      ],
      "source": [
        "print(metrics.classification_report(y_test, y_score))"
      ]
    },
    {
      "cell_type": "code",
      "execution_count": 97,
      "id": "557ab1e8",
      "metadata": {
        "colab": {
          "base_uri": "https://localhost:8080/",
          "height": 594
        },
        "id": "557ab1e8",
        "outputId": "d13227ca-fb99-4c4c-da4b-9841b1437d95"
      },
      "outputs": [
        {
          "data": {
            "image/png": "[encoded data removed]",
            "text/plain": [
              "<Figure size 640x480 with 1 Axes>"
            ]
          },
          "metadata": {},
          "output_type": "display_data"
        },
        {
          "data": {
            "image/png": "[encoded data removed]",
            "text/plain": [
              "<Figure size 500x500 with 2 Axes>"
            ]
          },
          "metadata": {},
          "output_type": "display_data"
        }
      ],
      "source": [
        "from sklearn.metrics import confusion_matrix\n",
        "import matplotlib.pyplot as plt\n",
        "import seaborn as sns\n",
        "\n",
        "fig = plt.figure(figsize = (5,5))\n",
        "ax = fig.gca()\n",
        "# матрица неточности\n",
        "\n",
        "cnf_matrix_log = confusion_matrix(y_test, y_score)\n",
        "\n",
        "sns.heatmap(pd.DataFrame(cnf_matrix_log), annot=True,cmap=\"Reds\" , fmt='g')\n",
        "ax.xaxis.set_label_position(\"top\")\n",
        "plt.tight_layout()\n",
        "plt.title('Confusion matrix Logistic Regression\\n', y=1.1)\n",
        "plt.show()"
      ]
    },
    {
      "cell_type": "code",
      "execution_count": 98,
      "id": "3c11910b",
      "metadata": {
        "colab": {
          "base_uri": "https://localhost:8080/",
          "height": 472
        },
        "id": "3c11910b",
        "outputId": "fe443564-cb61-49a2-b7b8-56e54b149b50"
      },
      "outputs": [
        {
          "data": {
            "image/png": "[encoded data removed]",
            "text/plain": [
              "<Figure size 640x480 with 1 Axes>"
            ]
          },
          "metadata": {},
          "output_type": "display_data"
        }
      ],
      "source": [
        "from sklearn.metrics import roc_auc_score\n",
        "from sklearn.metrics import roc_curve, auc\n",
        "# ROC - анализ\n",
        "fpr = dict()\n",
        "tpr = dict()\n",
        "roc_auc = dict()\n",
        "fpr, tpr, thresholds = roc_curve(y_test, y_score)\n",
        "roc_auc = auc(fpr, tpr)\n",
        "\n",
        "plt.figure()\n",
        "lw = 2\n",
        "plt.plot(fpr, tpr, color='darkorange', lw=lw, label='ROC curve (area = %0.2f)' % roc_auc)\n",
        "plt.plot([0, 1], [0, 1], color='navy', lw=lw, linestyle='--')\n",
        "plt.xlim([0.0, 1.0])\n",
        "plt.ylim([0.0, 1.05])\n",
        "plt.xlabel('False Positive Rate')\n",
        "plt.ylabel('True Positive Rate')\n",
        "plt.title('Receiver operating characteristic example')\n",
        "plt.legend(loc=\"lower right\")\n",
        "plt.show()"
      ]
    },
    {
      "cell_type": "code",
      "execution_count": 99,
      "id": "13582dde",
      "metadata": {
        "colab": {
          "base_uri": "https://localhost:8080/",
          "height": 424
        },
        "id": "13582dde",
        "outputId": "b86fd4db-182e-4134-970d-d4b0463eeb4a"
      },
      "outputs": [
        {
          "data": {
            "text/html": [
              "<div>\n",
              "<style scoped>\n",
              "    .dataframe tbody tr th:only-of-type {\n",
              "        vertical-align: middle;\n",
              "    }\n",
              "\n",
              "    .dataframe tbody tr th {\n",
              "        vertical-align: top;\n",
              "    }\n",
              "\n",
              "    .dataframe thead th {\n",
              "        text-align: right;\n",
              "    }\n",
              "</style>\n",
              "<table border=\"1\" class=\"dataframe\">\n",
              "  <thead>\n",
              "    <tr style=\"text-align: right;\">\n",
              "      <th></th>\n",
              "      <th>sex</th>\n",
              "      <th>cp</th>\n",
              "      <th>fbs</th>\n",
              "      <th>restecg</th>\n",
              "    </tr>\n",
              "  </thead>\n",
              "  <tbody>\n",
              "    <tr>\n",
              "      <th>0</th>\n",
              "      <td>1.0</td>\n",
              "      <td>0.0</td>\n",
              "      <td>0.0</td>\n",
              "      <td>1.0</td>\n",
              "    </tr>\n",
              "    <tr>\n",
              "      <th>1</th>\n",
              "      <td>1.0</td>\n",
              "      <td>0.0</td>\n",
              "      <td>1.0</td>\n",
              "      <td>0.0</td>\n",
              "    </tr>\n",
              "    <tr>\n",
              "      <th>2</th>\n",
              "      <td>1.0</td>\n",
              "      <td>0.0</td>\n",
              "      <td>0.0</td>\n",
              "      <td>1.0</td>\n",
              "    </tr>\n",
              "    <tr>\n",
              "      <th>3</th>\n",
              "      <td>1.0</td>\n",
              "      <td>0.0</td>\n",
              "      <td>0.0</td>\n",
              "      <td>1.0</td>\n",
              "    </tr>\n",
              "    <tr>\n",
              "      <th>4</th>\n",
              "      <td>0.0</td>\n",
              "      <td>0.0</td>\n",
              "      <td>1.0</td>\n",
              "      <td>1.0</td>\n",
              "    </tr>\n",
              "    <tr>\n",
              "      <th>...</th>\n",
              "      <td>...</td>\n",
              "      <td>...</td>\n",
              "      <td>...</td>\n",
              "      <td>...</td>\n",
              "    </tr>\n",
              "    <tr>\n",
              "      <th>1020</th>\n",
              "      <td>1.0</td>\n",
              "      <td>1.0</td>\n",
              "      <td>0.0</td>\n",
              "      <td>1.0</td>\n",
              "    </tr>\n",
              "    <tr>\n",
              "      <th>1021</th>\n",
              "      <td>1.0</td>\n",
              "      <td>0.0</td>\n",
              "      <td>0.0</td>\n",
              "      <td>0.0</td>\n",
              "    </tr>\n",
              "    <tr>\n",
              "      <th>1022</th>\n",
              "      <td>1.0</td>\n",
              "      <td>0.0</td>\n",
              "      <td>0.0</td>\n",
              "      <td>0.0</td>\n",
              "    </tr>\n",
              "    <tr>\n",
              "      <th>1023</th>\n",
              "      <td>0.0</td>\n",
              "      <td>0.0</td>\n",
              "      <td>0.0</td>\n",
              "      <td>0.0</td>\n",
              "    </tr>\n",
              "    <tr>\n",
              "      <th>1024</th>\n",
              "      <td>1.0</td>\n",
              "      <td>0.0</td>\n",
              "      <td>0.0</td>\n",
              "      <td>1.0</td>\n",
              "    </tr>\n",
              "  </tbody>\n",
              "</table>\n",
              "<p>1025 rows × 4 columns</p>\n",
              "</div>"
            ],
            "text/plain": [
              "      sex   cp  fbs  restecg\n",
              "0     1.0  0.0  0.0      1.0\n",
              "1     1.0  0.0  1.0      0.0\n",
              "2     1.0  0.0  0.0      1.0\n",
              "3     1.0  0.0  0.0      1.0\n",
              "4     0.0  0.0  1.0      1.0\n",
              "...   ...  ...  ...      ...\n",
              "1020  1.0  1.0  0.0      1.0\n",
              "1021  1.0  0.0  0.0      0.0\n",
              "1022  1.0  0.0  0.0      0.0\n",
              "1023  0.0  0.0  0.0      0.0\n",
              "1024  1.0  0.0  0.0      1.0\n",
              "\n",
              "[1025 rows x 4 columns]"
            ]
          },
          "execution_count": 99,
          "metadata": {},
          "output_type": "execute_result"
        }
      ],
      "source": [
        "X_cut = X.iloc[:,:4]\n",
        "X_cut"
      ]
    },
    {
      "cell_type": "code",
      "execution_count": 100,
      "id": "66db83e0",
      "metadata": {
        "colab": {
          "base_uri": "https://localhost:8080/",
          "height": 424
        },
        "id": "66db83e0",
        "outputId": "2dd8f5d2-3f08-4b5a-a19d-08561c321e3a"
      },
      "outputs": [
        {
          "data": {
            "text/html": [
              "<div>\n",
              "<style scoped>\n",
              "    .dataframe tbody tr th:only-of-type {\n",
              "        vertical-align: middle;\n",
              "    }\n",
              "\n",
              "    .dataframe tbody tr th {\n",
              "        vertical-align: top;\n",
              "    }\n",
              "\n",
              "    .dataframe thead th {\n",
              "        text-align: right;\n",
              "    }\n",
              "</style>\n",
              "<table border=\"1\" class=\"dataframe\">\n",
              "  <thead>\n",
              "    <tr style=\"text-align: right;\">\n",
              "      <th></th>\n",
              "      <th>sex</th>\n",
              "      <th>cp</th>\n",
              "      <th>fbs</th>\n",
              "      <th>restecg</th>\n",
              "    </tr>\n",
              "  </thead>\n",
              "  <tbody>\n",
              "    <tr>\n",
              "      <th>0</th>\n",
              "      <td>1.0</td>\n",
              "      <td>0.0</td>\n",
              "      <td>0.0</td>\n",
              "      <td>1.0</td>\n",
              "    </tr>\n",
              "    <tr>\n",
              "      <th>1</th>\n",
              "      <td>1.0</td>\n",
              "      <td>0.0</td>\n",
              "      <td>1.0</td>\n",
              "      <td>0.0</td>\n",
              "    </tr>\n",
              "    <tr>\n",
              "      <th>2</th>\n",
              "      <td>1.0</td>\n",
              "      <td>0.0</td>\n",
              "      <td>0.0</td>\n",
              "      <td>1.0</td>\n",
              "    </tr>\n",
              "    <tr>\n",
              "      <th>3</th>\n",
              "      <td>1.0</td>\n",
              "      <td>0.0</td>\n",
              "      <td>0.0</td>\n",
              "      <td>1.0</td>\n",
              "    </tr>\n",
              "    <tr>\n",
              "      <th>4</th>\n",
              "      <td>0.0</td>\n",
              "      <td>0.0</td>\n",
              "      <td>1.0</td>\n",
              "      <td>1.0</td>\n",
              "    </tr>\n",
              "    <tr>\n",
              "      <th>...</th>\n",
              "      <td>...</td>\n",
              "      <td>...</td>\n",
              "      <td>...</td>\n",
              "      <td>...</td>\n",
              "    </tr>\n",
              "    <tr>\n",
              "      <th>1020</th>\n",
              "      <td>1.0</td>\n",
              "      <td>1.0</td>\n",
              "      <td>0.0</td>\n",
              "      <td>1.0</td>\n",
              "    </tr>\n",
              "    <tr>\n",
              "      <th>1021</th>\n",
              "      <td>1.0</td>\n",
              "      <td>0.0</td>\n",
              "      <td>0.0</td>\n",
              "      <td>0.0</td>\n",
              "    </tr>\n",
              "    <tr>\n",
              "      <th>1022</th>\n",
              "      <td>1.0</td>\n",
              "      <td>0.0</td>\n",
              "      <td>0.0</td>\n",
              "      <td>0.0</td>\n",
              "    </tr>\n",
              "    <tr>\n",
              "      <th>1023</th>\n",
              "      <td>0.0</td>\n",
              "      <td>0.0</td>\n",
              "      <td>0.0</td>\n",
              "      <td>0.0</td>\n",
              "    </tr>\n",
              "    <tr>\n",
              "      <th>1024</th>\n",
              "      <td>1.0</td>\n",
              "      <td>0.0</td>\n",
              "      <td>0.0</td>\n",
              "      <td>1.0</td>\n",
              "    </tr>\n",
              "  </tbody>\n",
              "</table>\n",
              "<p>1025 rows × 4 columns</p>\n",
              "</div>"
            ],
            "text/plain": [
              "      sex   cp  fbs  restecg\n",
              "0     1.0  0.0  0.0      1.0\n",
              "1     1.0  0.0  1.0      0.0\n",
              "2     1.0  0.0  0.0      1.0\n",
              "3     1.0  0.0  0.0      1.0\n",
              "4     0.0  0.0  1.0      1.0\n",
              "...   ...  ...  ...      ...\n",
              "1020  1.0  1.0  0.0      1.0\n",
              "1021  1.0  0.0  0.0      0.0\n",
              "1022  1.0  0.0  0.0      0.0\n",
              "1023  0.0  0.0  0.0      0.0\n",
              "1024  1.0  0.0  0.0      1.0\n",
              "\n",
              "[1025 rows x 4 columns]"
            ]
          },
          "execution_count": 100,
          "metadata": {},
          "output_type": "execute_result"
        }
      ],
      "source": [
        "X = X.iloc[:,0:4]\n",
        "X"
      ]
    },
    {
      "cell_type": "code",
      "execution_count": 101,
      "id": "373ab959",
      "metadata": {
        "colab": {
          "base_uri": "https://localhost:8080/",
          "height": 424
        },
        "id": "373ab959",
        "outputId": "dd7daf08-81ef-4871-c19e-131bfb864cb1"
      },
      "outputs": [
        {
          "data": {
            "text/html": [
              "<div>\n",
              "<style scoped>\n",
              "    .dataframe tbody tr th:only-of-type {\n",
              "        vertical-align: middle;\n",
              "    }\n",
              "\n",
              "    .dataframe tbody tr th {\n",
              "        vertical-align: top;\n",
              "    }\n",
              "\n",
              "    .dataframe thead th {\n",
              "        text-align: right;\n",
              "    }\n",
              "</style>\n",
              "<table border=\"1\" class=\"dataframe\">\n",
              "  <thead>\n",
              "    <tr style=\"text-align: right;\">\n",
              "      <th></th>\n",
              "      <th>sex</th>\n",
              "      <th>restecg</th>\n",
              "    </tr>\n",
              "  </thead>\n",
              "  <tbody>\n",
              "    <tr>\n",
              "      <th>0</th>\n",
              "      <td>1.0</td>\n",
              "      <td>1.0</td>\n",
              "    </tr>\n",
              "    <tr>\n",
              "      <th>1</th>\n",
              "      <td>1.0</td>\n",
              "      <td>0.0</td>\n",
              "    </tr>\n",
              "    <tr>\n",
              "      <th>2</th>\n",
              "      <td>1.0</td>\n",
              "      <td>1.0</td>\n",
              "    </tr>\n",
              "    <tr>\n",
              "      <th>3</th>\n",
              "      <td>1.0</td>\n",
              "      <td>1.0</td>\n",
              "    </tr>\n",
              "    <tr>\n",
              "      <th>4</th>\n",
              "      <td>0.0</td>\n",
              "      <td>1.0</td>\n",
              "    </tr>\n",
              "    <tr>\n",
              "      <th>...</th>\n",
              "      <td>...</td>\n",
              "      <td>...</td>\n",
              "    </tr>\n",
              "    <tr>\n",
              "      <th>1020</th>\n",
              "      <td>1.0</td>\n",
              "      <td>1.0</td>\n",
              "    </tr>\n",
              "    <tr>\n",
              "      <th>1021</th>\n",
              "      <td>1.0</td>\n",
              "      <td>0.0</td>\n",
              "    </tr>\n",
              "    <tr>\n",
              "      <th>1022</th>\n",
              "      <td>1.0</td>\n",
              "      <td>0.0</td>\n",
              "    </tr>\n",
              "    <tr>\n",
              "      <th>1023</th>\n",
              "      <td>0.0</td>\n",
              "      <td>0.0</td>\n",
              "    </tr>\n",
              "    <tr>\n",
              "      <th>1024</th>\n",
              "      <td>1.0</td>\n",
              "      <td>1.0</td>\n",
              "    </tr>\n",
              "  </tbody>\n",
              "</table>\n",
              "<p>1025 rows × 2 columns</p>\n",
              "</div>"
            ],
            "text/plain": [
              "      sex  restecg\n",
              "0     1.0      1.0\n",
              "1     1.0      0.0\n",
              "2     1.0      1.0\n",
              "3     1.0      1.0\n",
              "4     0.0      1.0\n",
              "...   ...      ...\n",
              "1020  1.0      1.0\n",
              "1021  1.0      0.0\n",
              "1022  1.0      0.0\n",
              "1023  0.0      0.0\n",
              "1024  1.0      1.0\n",
              "\n",
              "[1025 rows x 2 columns]"
            ]
          },
          "execution_count": 101,
          "metadata": {},
          "output_type": "execute_result"
        }
      ],
      "source": [
        "X_cut = X.iloc[:, [0, 3]]\n",
        "X_cut"
      ]
    },
    {
      "cell_type": "code",
      "execution_count": 102,
      "id": "a34e26db",
      "metadata": {
        "colab": {
          "base_uri": "https://localhost:8080/"
        },
        "id": "a34e26db",
        "outputId": "1aa93e97-64a3-40ec-f620-929df38490f5"
      },
      "outputs": [
        {
          "data": {
            "text/plain": [
              "807     1.0\n",
              "27      0.0\n",
              "77      0.0\n",
              "406     1.0\n",
              "886     0.0\n",
              "       ... \n",
              "1013    0.0\n",
              "521     1.0\n",
              "929     0.0\n",
              "619     0.0\n",
              "1023    1.0\n",
              "Name: target, Length: 513, dtype: float32"
            ]
          },
          "execution_count": 102,
          "metadata": {},
          "output_type": "execute_result"
        }
      ],
      "source": [
        "Xc_train, Xc_test, yc_train, yc_test = train_test_split(X_cut, y, test_size=.5, random_state=0) #разбиваем выборку на обучающую и тестовую\n",
        "yc_test"
      ]
    },
    {
      "cell_type": "code",
      "execution_count": 103,
      "id": "478b10fa",
      "metadata": {
        "id": "478b10fa"
      },
      "outputs": [],
      "source": [
        "#настройка параметров модели\n",
        "model = LogisticRegression()\n",
        "yc_scor=model.fit(Xc_train, yc_train)\n",
        "yc_score=yc_scor.predict(Xc_test)"
      ]
    },
    {
      "cell_type": "code",
      "execution_count": 104,
      "id": "8419ac7d",
      "metadata": {
        "colab": {
          "base_uri": "https://localhost:8080/"
        },
        "id": "8419ac7d",
        "outputId": "2b0a27af-89d0-4104-f5b3-e8be1e091970"
      },
      "outputs": [
        {
          "name": "stdout",
          "output_type": "stream",
          "text": [
            "              precision    recall  f1-score   support\n",
            "\n",
            "         0.0       0.56      0.83      0.67       241\n",
            "         1.0       0.74      0.43      0.55       272\n",
            "\n",
            "    accuracy                           0.62       513\n",
            "   macro avg       0.65      0.63      0.61       513\n",
            "weighted avg       0.66      0.62      0.60       513\n",
            "\n"
          ]
        }
      ],
      "source": [
        "print(metrics.classification_report(yc_test, yc_score))"
      ]
    },
    {
      "cell_type": "code",
      "execution_count": 105,
      "id": "555ba67a",
      "metadata": {
        "colab": {
          "base_uri": "https://localhost:8080/",
          "height": 594
        },
        "id": "555ba67a",
        "outputId": "24b37008-ad26-4e75-f5b1-e9a5b143be68"
      },
      "outputs": [
        {
          "data": {
            "image/png": "[encoded data removed]",
            "text/plain": [
              "<Figure size 500x500 with 2 Axes>"
            ]
          },
          "metadata": {},
          "output_type": "display_data"
        }
      ],
      "source": [
        "from sklearn.metrics import confusion_matrix\n",
        "import matplotlib.pyplot as plt\n",
        "import seaborn as sns\n",
        "\n",
        "fig = plt.figure(figsize = (5,5))\n",
        "ax = fig.gca()\n",
        "# матрица неточности\n",
        "\n",
        "cnf_matrix_log = confusion_matrix(yc_test, yc_score)\n",
        "\n",
        "sns.heatmap(pd.DataFrame(cnf_matrix_log), annot=True,cmap=\"Reds\" , fmt='g')\n",
        "ax.xaxis.set_label_position(\"top\")\n",
        "plt.tight_layout()\n",
        "plt.title('Confusion matrix Logistic Regression\\n', y=1.1)\n",
        "plt.show()"
      ]
    },
    {
      "cell_type": "code",
      "execution_count": 106,
      "id": "acac02a7",
      "metadata": {
        "colab": {
          "base_uri": "https://localhost:8080/",
          "height": 472
        },
        "id": "acac02a7",
        "outputId": "22372df6-3351-46d6-cb7d-02087489f019"
      },
      "outputs": [
        {
          "data": {
            "image/png": "[encoded data removed]",
            "text/plain": [
              "<Figure size 640x480 with 1 Axes>"
            ]
          },
          "metadata": {},
          "output_type": "display_data"
        }
      ],
      "source": [
        "from sklearn.metrics import roc_auc_score\n",
        "from sklearn.metrics import roc_curve, auc\n",
        "# ROC - анализ\n",
        "fpr = dict()\n",
        "tpr = dict()\n",
        "roc_auc = dict()\n",
        "fpr, tpr, thresholds = roc_curve(yc_test, yc_score)\n",
        "roc_auc = auc(fpr, tpr)\n",
        "\n",
        "plt.figure()\n",
        "lw = 2\n",
        "plt.plot(fpr, tpr, color='darkorange', lw=lw, label='ROC curve (area = %0.2f)' % roc_auc)\n",
        "plt.plot([0, 1], [0, 1], color='navy', lw=lw, linestyle='--')\n",
        "plt.xlim([0.0, 1.0])\n",
        "plt.ylim([0.0, 1.05])\n",
        "plt.xlabel('False Positive Rate')\n",
        "plt.ylabel('True Positive Rate')\n",
        "plt.title('Receiver operating characteristic example')\n",
        "plt.legend(loc=\"lower right\")\n",
        "plt.show()"
      ]
    },
    {
      "cell_type": "code",
      "execution_count": null,
      "id": "132cef51",
      "metadata": {
        "id": "132cef51"
      },
      "outputs": [],
      "source": []
    }
  ],
  "metadata": {
    "colab": {
      "provenance": []
    },
    "kernelspec": {
      "display_name": "Python 3 (ipykernel)",
      "language": "python",
      "name": "python3"
    },
    "language_info": {
      "codemirror_mode": {
        "name": "ipython",
        "version": 3
      },
      "file_extension": ".py",
      "mimetype": "text/x-python",
      "name": "python",
      "nbconvert_exporter": "python",
      "pygments_lexer": "ipython3",
      "version": "3.10.12"
    }
  },
  "nbformat": 4,
  "nbformat_minor": 5
}
